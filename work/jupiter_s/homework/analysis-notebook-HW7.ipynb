{
 "cells": [
  {
   "cell_type": "code",
   "execution_count": 1,
   "id": "bed2f38a",
   "metadata": {},
   "outputs": [
    {
     "name": "stdout",
     "output_type": "stream",
     "text": [
      "Ginga not installed, use other viewer, or no viewer\n"
     ]
    }
   ],
   "source": [
    "#import block\n",
    "# some of these may not be needed\n",
    "import numpy as np\n",
    "from astropy.io import fits\n",
    "import pdb\n",
    "%matplotlib inline\n",
    "from matplotlib import pyplot as plt\n",
    "from matplotlib import rc\n",
    "import matplotlib\n",
    "from astropy.visualization import hist\n",
    "from datetime import datetime\n",
    "from pathlib import Path\n",
    "import os\n",
    "from ccdproc import ImageFileCollection\n",
    "import ccdproc as ccdp\n",
    "from astropy.modeling.models import Polynomial1D,Chebyshev1D,Legendre1D,Hermite1D, Gaussian1D,Gaussian2D,Polynomial2D\n",
    "from astropy.modeling import fitting\n",
    "from astropy.stats import mad_std\n",
    "from astropy.nddata import CCDData, StdDevUncertainty\n",
    "from scipy import stats\n",
    "from astropy import units as u\n",
    "from photutils.aperture import CircularAperture,CircularAnnulus\n",
    "from photutils.aperture import aperture_photometry\n",
    "from astropy.stats import sigma_clipped_stats\n",
    "from photutils.detection import DAOStarFinder\n",
    "from astropy.table import Table\n",
    "from imexam.imexamine import Imexamine\n",
    "from astropy.coordinates import SkyCoord"
   ]
  },
  {
   "cell_type": "code",
   "execution_count": 2,
   "id": "d52e00fc",
   "metadata": {},
   "outputs": [
    {
     "name": "stderr",
     "output_type": "stream",
     "text": [
      "WARNING: AstropyDeprecationWarning: block_reduce was moved to the astropy.nddata.blocks module.  Please update your import statement. [astropy.nddata.utils]\n"
     ]
    }
   ],
   "source": [
    "# grab show_image\n",
    "phot_tutorial_dir = '/Users/Kira Simpson/Desktop/ASTR8060/repositories/notebooks'\n",
    "import sys\n",
    "sys.path.insert(0,phot_tutorial_dir)\n",
    "from convenience_functions import show_image\n",
    "\n",
    "# plotting defaults\n",
    "# Use custom style for larger fonts and figures\n",
    "plt.style.use(phot_tutorial_dir+'/guide.mplstyle')\n",
    "\n",
    "# Set some default parameters for the plots below\n",
    "rc('font', size=12)\n",
    "rc('axes', grid=True)"
   ]
  },
  {
   "cell_type": "code",
   "execution_count": 3,
   "id": "bde2f01b",
   "metadata": {},
   "outputs": [],
   "source": [
    "# define directories\n",
    "data_dir = '/Users/Kira Simpson/Desktop/ASTR8060/data/Imaging/'\n",
    "reduced_dir = '/Users/Kira Simpson/Desktop/ASTR8060/data/im_reduc/' #working directory"
   ]
  },
  {
   "cell_type": "markdown",
   "id": "42e71f1b",
   "metadata": {},
   "source": [
    "# 1.) "
   ]
  },
  {
   "cell_type": "code",
   "execution_count": 37,
   "id": "c98332f5",
   "metadata": {},
   "outputs": [],
   "source": [
    "#use the get_phot function from Prof. Runnoe's solution for HW6.\n",
    "#this function will be cannibalized later for NGC6823, but this version is useful for PG1633+099 instrumental magnitudes.\n",
    "\n",
    "def get_phot(file,approx_pos,filtr):\n",
    "    '''\n",
    "    This function takes an input file, list of positions for stars to find, and plot title.\n",
    "    \n",
    "    It executes the following steps:\n",
    "    1. Read in the data.\n",
    "    2. Find all sources in the image. It assumes the FWHM is approximately 4 pix and finds everything greater than 10 sigma.\n",
    "    3. It collects the info for the sources given in the input position list, matching within 10 pixel positions.\n",
    "    4. It puts r=10pix apertures on each of these stars, as well as r_in=15, r_out=20 background annuli.\n",
    "    5. It calculates background-subtracted instrumental magnitudes.\n",
    "    6. It plots the image and apertures for visual inspection.\n",
    "    7. It returns a table of photometry.\n",
    "    '''\n",
    "    fwhm       = 4.0\n",
    "    source_snr = 10\n",
    "\n",
    "    sci        = CCDData.read(file,unit='adu')\n",
    "    data       = sci.data\n",
    "    hdr        = sci.header\n",
    "    \n",
    "    mean, median, std = sigma_clipped_stats(data, sigma=3.0)    \n",
    "    daofind = DAOStarFinder(fwhm=fwhm, threshold=source_snr*std)    \n",
    "    sources = daofind(data)\n",
    "    \n",
    "    positions = np.zeros_like(approx_pos)\n",
    "    for position,i in zip(approx_pos,range(np.shape(approx_pos)[0])):\n",
    "        match = np.where((abs(sources['xcentroid']-position[0])<10) & (abs(sources['ycentroid']-position[1])<10))[0][0]\n",
    "        positions[i] = (sources['xcentroid'][match],sources['ycentroid'][match])\n",
    "          \n",
    "    # photometry\n",
    "    # biggest FWHM is 4.2 pix\n",
    "    aperture  = CircularAperture(positions, r=4)\n",
    "    phot = aperture_photometry(data, aperture)\n",
    "    for col in phot.colnames:\n",
    "        phot[col].info.format = '%.8g'              # for consistent table output\n",
    "        \n",
    "    # calculate the mean background\n",
    "    # note that for PG1633+099, this will include two little stars :(\n",
    "    annulus_aperture = CircularAnnulus(positions, r_in=15., r_out=20.)\n",
    "    bg   = aperture_photometry(data,annulus_aperture)\n",
    "    for col in bg.colnames:\n",
    "        bg[col].info.format = '%.8g'                # for consistent table output\n",
    "    msky = bg['aperture_sum']/annulus_aperture.area # get bg cts/pixel\n",
    "    \n",
    "    phot['inst_mag'] = -2.5 * np.log10(phot.columns['aperture_sum']-msky*aperture.area)\n",
    "    phot['diff_mag'] =phot.columns['inst_mag']-lan_mag\n",
    "    phot['V']   = [14.397,15.256,12.969,13.229,13.691]\n",
    "    phot['B-V'] = [-0.192,0.837,1.081,1.134,0.535]\n",
    "\n",
    "    \n",
    "    # show the image with apertures\n",
    "    #fig, ax = plt.subplots(1, 1, figsize=(8, 8))\n",
    "    #show_image(data, cmap='gray', ax=ax, fig=fig)\n",
    "    #aperture.plot(color='green', lw=1.5, alpha=0.5) # apertures\n",
    "    #annulus_aperture.plot(color='red', lw=1.5, alpha=0.5)                        # bg annulus\n",
    "    #ax.set_xlim([800,1500])\n",
    "    #ax.set_ylim([800,1500])\n",
    "    #plt.title(title)\n",
    "    #plt.tight_layout()\n",
    "    #plt.show()\n",
    "    \n",
    "    return phot"
   ]
  },
  {
   "cell_type": "code",
   "execution_count": 38,
   "id": "d6632fef",
   "metadata": {},
   "outputs": [],
   "source": [
    "#taken from Prof. Runnoe's solutions as well.\n",
    "\n",
    "approx_pos = [[(988.8683,1049.2803),(1044.8029,1043.2159),(1251.6695,1221.4295),(1363.9839,1230.9691),(1444.0144,1182.0372)],\\\n",
    "[(987.9844,1049.2036),(1043.8968,1043.1361),(1250.6889,1221.1958),(1363.0112,1230.7516),(1443.0305,1181.8385)],\\\n",
    "[(931.8118,1043.4529),(987.6939,1037.3564),(1194.6650,1215.5002),(1307.0202,1225.0282),(1386.9956,1176.1044)],\\\n",
    "[(932.0204,1043.5176),(987.9188,1037.3954),(1194.7984,1215.5333),(1307.1397,1225.0323),(1387.0961,1176.0627)],\\\n",
    "[(924.4201,1037.0850),(980.2808,1030.9915),(1187.3280,1208.8491),(1299.5213,1218.2871),(1379.4235,1169.3869)],\\\n",
    "[(925.3480,1036.7100),(981.2349,1030.6284),(1188.1673,1208.4725),(1300.4663,1217.9357),(1380.4332,1168.9797)],\\\n",
    "[(838.3982,1039.8684),(894.1732,1033.8111),(1101.0422,1211.7489),(1213.2663,1221.1237),(1293.3098,1172.1284)],\\\n",
    "[(838.1403,1039.7337),(893.9993,1033.6562),(1100.9368,1211.3933),(1213.1794,1220.8576),(1293.1324,1171.9191)]]\n",
    "\n",
    "#landolt standard magnitudes for UBVRI\n",
    "lan_mag = [6,6,6,6,5]\n",
    "lan_mag2 = [6,6,6,6,5,6,6,6,6,5]"
   ]
  },
  {
   "cell_type": "code",
   "execution_count": null,
   "id": "527dcfa2",
   "metadata": {},
   "outputs": [],
   "source": [
    "#from Prof. Runnoe's HW6 solution\n",
    "imgs       = ccdp.ImageFileCollection(reduced_dir,glob_include='*otzf.fits')\n",
    "sci_files  = imgs.files_filtered(imagetyp='science',object='pg1633',include_path=True)\n",
    "sci = ((imgs.summary['imagetyp'] == 'science') & (imgs.summary['filter'] != 'Ha'))\n",
    "sci_filters = set(imgs.summary['filter'][sci])\n",
    "\n",
    "\n",
    "standards = Table()\n",
    "standards['filter'] = [filtr for filtr in sci_filters]\n",
    "standards['k'] = np.zeros(len(sci_filters))\n",
    "\n",
    "airmass = [1.18,1.24,1.51,2.21]\n",
    "\n",
    "\n",
    "for filtr,ii in zip(sci_filters,range(len(sci_filters))):\n",
    "    # get files in this filter\n",
    "    sci_infilter = imgs.files_filtered(imagetyp='science', object='pg1633',filter=filtr,include_path=True)\n",
    "    \n",
    "    if filtr=='V': # skip the linearity test\n",
    "        sci_infilter = sci_infilter[7:]\n",
    "    \n",
    "    # do aperture photometry\n",
    "    phot = [get_phot(file,approx_pos[i],filtr+', '+file.split('/')[-1]) for file,i in zip(sci_infilter,range(len(sci_infilter)))]\n",
    "\n",
    "    i_diff_mags = [] #i as in instrument\n",
    "    for i in range(8):\n",
    "        for j in range(5):\n",
    "            i_diff_mags.append(phot[i][j][5])\n",
    "    \n",
    "    \n",
    "    plt.figure(9)\n",
    "    plt.scatter([1.18]*10,i_diff_mags[:10])\n",
    "    plt.scatter([1.24]*10,i_diff_mags[10:20])\n",
    "    plt.scatter([1.51]*10,i_diff_mags[20:30])\n",
    "    plt.scatter([2.21]*10,i_diff_mags[30:40])\n",
    "    plt.title('Instrumental Magnitudes vs. Airmass')\n",
    "    plt.show()"
   ]
  },
  {
   "cell_type": "code",
   "execution_count": null,
   "id": "4e535cc3",
   "metadata": {},
   "outputs": [],
   "source": [
    "#make a list of airmasses\n",
    "airmass = [1.18]*10+[1.24]*10+[1.51]*10+[2.21]*10\n",
    "#use a linear regression to find the extinction coefficients for each filter\n",
    "linregress(np.array(airmass),np.array(i_diff_mags))"
   ]
  },
  {
   "cell_type": "markdown",
   "id": "d58bd394",
   "metadata": {},
   "source": [
    "# 2.)"
   ]
  },
  {
   "cell_type": "markdown",
   "id": "ab4c70ee",
   "metadata": {},
   "source": [
    "What is the flux/magnitude at the top of the atmosphere? (so at an airmass of zero, assuming no time variation and airmass is linear with extinction)\n",
    "\n",
    "F = F_0 * e^(-tau_0 * chi)\n",
    "\n",
    "The magnitude version of this equation is:\n",
    "m_0 = m - 1.085 * tau_0 * chi = m - (k * chi)\n",
    "\n",
    "This is the difference between observed magnitude and known magnitude (the standard stars from landolt)\n",
    "\n",
    "for the m - m_0 vs airmass plot, the slope is the extinction coefficient k\n",
    " \n",
    "The following steps will find all the pieces of this equation and apply this correction to all of our magnitudes."
   ]
  },
  {
   "cell_type": "code",
   "execution_count": null,
   "id": "691f806b",
   "metadata": {},
   "outputs": [],
   "source": [
    "k = 0.6289580027687809 #pulled from linear regression above\n",
    "\n",
    "for filtr,ii in zip(sci_filters,range(len(sci_filters))):\n",
    "    # get files in this filter\n",
    "    sci_infilter = imgs.files_filtered(imagetyp='science', object='pg1633',filter=filtr,include_path=True)\n",
    "    \n",
    "    if filtr=='V': # skip the linearity test\n",
    "        sci_infilter = sci_infilter[7:]\n",
    "        j_diff_mags = []\n",
    "        for i in range(8):\n",
    "            for j in range(5):\n",
    "                j_diff_mags.append(phot[i][j][4])\n",
    "\n",
    "j_diff_mags = np.array(j_diff_mags)\n",
    "                \n",
    "m_o1 = j_diff_mags[:10] - k * 1.18\n",
    "\n",
    "m_o2 = j_diff_mags[10:20] - k * 1.24\n",
    "\n",
    "m_o3 = j_diff_mags[20:30] - k * 1.51\n",
    "\n",
    "m_o4 = j_diff_mags[30:40] - k * 2.21"
   ]
  },
  {
   "cell_type": "code",
   "execution_count": null,
   "id": "dc73b34d",
   "metadata": {},
   "outputs": [],
   "source": [
    "#corrected magnitudes: observed - standard mags\n",
    "m_cor = m_o1 - lan_mag2\n",
    "m_cor2 = m_o2 - lan_mag2\n",
    "m_cor3 = m_o3 - lan_mag2\n",
    "m_cor4 =m_o4 - lan_mag2"
   ]
  },
  {
   "cell_type": "code",
   "execution_count": null,
   "id": "6d2a7b5f",
   "metadata": {},
   "outputs": [],
   "source": [
    "#list of the B-V colors pulled from the Landolt paper\n",
    "BV = [-0.192,0.837,1.081,1.134, 0.535,-0.192,0.837,1.081,1.134, 0.535,-0.192,0.837,1.081,1.134, 0.535,-0.192,0.837,1.081,1.134, 0.535,-0.192,0.837,1.081,1.134, 0.535,-0.192,0.837,1.081,1.134, 0.535,-0.192,0.837,1.081,1.134, 0.535,-0.192,0.837,1.081,1.134, 0.535]"
   ]
  },
  {
   "cell_type": "code",
   "execution_count": null,
   "id": "59d5d34e",
   "metadata": {},
   "outputs": [],
   "source": [
    "#collect all the corrected magnitudes\n",
    "all_mcorr = list(m_cor) + list(m_cor2) + list(m_cor3) + list(m_cor4)\n",
    "\n",
    "plt.scatter(BV,all_mcorr)\n",
    "plt.title('Color vs. Corrected Magnitudes')\n",
    "plt.show()\n",
    "linregress(BV,all_mcorr)"
   ]
  },
  {
   "cell_type": "markdown",
   "id": "625a5157",
   "metadata": {},
   "source": [
    "the linear regression gives us a line equation y = -20.32 + 0.02x"
   ]
  },
  {
   "cell_type": "markdown",
   "id": "b6da57c5",
   "metadata": {},
   "source": [
    "# 3.)"
   ]
  },
  {
   "cell_type": "code",
   "execution_count": null,
   "id": "0a5e4ec2",
   "metadata": {},
   "outputs": [],
   "source": [
    "#apply what we've been doing to an open cluster and see how well this works for us.\n",
    "nimgs       = ccdp.ImageFileCollection(reduced_dir,glob_include='*otzf.fits')\n",
    "\n",
    "airmass = [1.18,1.24,1.51,2.21]\n",
    "#print(airmass)\n",
    "\n",
    "n_infilter = nimgs.files_filtered(imagetyp='science', object='ngc6823',filter='V',include_path=True)\n",
    "\n",
    "file = n_infilter[0]\n",
    "fwhm       = 5.0\n",
    "source_snr = 20\n",
    "\n",
    "sci        = CCDData.read(file,unit='adu')\n",
    "#use a smaller set of the data \n",
    "data       = sci.data[739:1438,880:1660]\n",
    "hdr        = sci.header\n",
    "\n",
    "mean, median, std = sigma_clipped_stats(data, sigma=3.0)    \n",
    "daofind = DAOStarFinder(fwhm=fwhm, threshold=source_snr*std)    \n",
    "sources = daofind(data)\n",
    "\n",
    "im1_sf_positions = []\n",
    "\n",
    "for i in range(len(sources['xcentroid'])):\n",
    "    position = tuple([sources['xcentroid'][i],sources['ycentroid'][i]])\n",
    "    im1_sf_positions.append(position)"
   ]
  },
  {
   "cell_type": "code",
   "execution_count": null,
   "id": "c4db48d8",
   "metadata": {},
   "outputs": [],
   "source": [
    "#make apertures\n",
    "aperture  = CircularAperture(im1_sf_positions, r=5)\n",
    "\n",
    "#show the image with apertures\n",
    "fig, ax = plt.subplots(1, 1, figsize=(8, 8))\n",
    "show_image(data, cmap='gray', ax=ax, fig=fig)\n",
    "aperture.plot(color='green', lw=1.5, alpha=0.5) # apertures\n",
    "#annulus_aperture.plot(color='red', lw=1.5, alpha=0.5)                        # bg annulus\n",
    "plt.title('V-NGC6823-1')\n",
    "plt.tight_layout()\n",
    "plt.show()"
   ]
  },
  {
   "cell_type": "code",
   "execution_count": null,
   "id": "ccc354e6",
   "metadata": {},
   "outputs": [],
   "source": [
    "#the starfinder positions we found in the first image\n",
    "#are used as the approximate positions for the 2nd image.\n",
    "\n",
    "image2 = n_infilter[1] #get sources from second image\n",
    "\n",
    "#the stars are a little bit larger/brighter, so I increased the fwhm and SNR\n",
    "fwhm       = 5.0\n",
    "source_snr = 20\n",
    "\n",
    "sci        = CCDData.read(file,unit='adu')\n",
    "data       = sci.data[739:1438,880:1660]\n",
    "hdr        = sci.header\n",
    "\n",
    "mean, median, std = sigma_clipped_stats(data, sigma=3.0)    \n",
    "daofind = DAOStarFinder(fwhm=fwhm, threshold=source_snr*std)  \n",
    "sources_2 = daofind(data) #2nd image starfinder sources\n",
    "\n",
    "#make array of 2nd image source positions\n",
    "im2_sf_positions = []\n",
    "\n",
    "for i in range(len(sources_2['xcentroid'])):\n",
    "    position = tuple([sources_2['xcentroid'][i],sources_2['ycentroid'][i]])\n",
    "    im2_sf_positions.append(position)\n",
    "\n",
    "#make apertures\n",
    "aperture  = CircularAperture(im1_sf_positions, r=5)\n",
    "phot_im1 = aperture_photometry(data, aperture)\n",
    "annulus_aperture = CircularAnnulus(starfinder_pos, r_in=15., r_out=20.)\n",
    "\n",
    "\n",
    "#show the image with apertures\n",
    "#apertures are from starfinder running on the 2nd image\n",
    "#how much do they overlap?\n",
    "fig, ax = plt.subplots(1, 1, figsize=(8, 8))\n",
    "show_image(data, cmap='gray', ax=ax, fig=fig)\n",
    "aperture.plot(color='green', lw=1.5, alpha=0.5) # apertures\n",
    "#annulus_aperture.plot(color='red', lw=1.5, alpha=0.5)                        # bg annulus\n",
    "plt.title('V-NGC6823-2')\n",
    "plt.tight_layout()\n",
    "plt.show()\n",
    "\n",
    "#we see on the second image that the first set of apertures fit well over the second image's stars\n",
    "#so they'll work as apertures to do photometry."
   ]
  },
  {
   "cell_type": "code",
   "execution_count": null,
   "id": "f4ecee5e",
   "metadata": {},
   "outputs": [],
   "source": [
    "#plot the position matches on the second image:\n",
    "#make apertures\n",
    "aperture  = CircularAperture(im2_sf_positions, r=5)\n",
    "phot_im2 = aperture_photometry(data, aperture)\n",
    "#annulus_aperture = CircularAnnulus(starfinder_pos, r_in=15., r_out=20.)"
   ]
  },
  {
   "cell_type": "code",
   "execution_count": null,
   "id": "02694493",
   "metadata": {},
   "outputs": [],
   "source": [
    "lan_mag3 = [6]*79\n",
    "\n",
    "#here's the modified version of the function that handles NGC6823\n",
    "def get_phota(file,filtr):\n",
    "    '''\n",
    "    This function takes an input file, list of positions for stars to find, and plot title.\n",
    "    \n",
    "    It executes the following steps:\n",
    "    1. Read in the data.\n",
    "    2. Find all sources in the image. It assumes the FWHM is approximately 4 pix and finds everything greater than 10 sigma.\n",
    "    3. It collects the info for the sources given in the input position list, matching within 10 pixel positions.\n",
    "    4. It puts r=10pix apertures on each of these stars, as well as r_in=15, r_out=20 background annuli.\n",
    "    5. It calculates background-subtracted instrumental magnitudes.\n",
    "    6. It plots the image and apertures for visual inspection.\n",
    "    7. It returns a table of photometry.\n",
    "    '''\n",
    "    fwhm       = 5.0\n",
    "    source_snr = 20\n",
    "\n",
    "    sci        = CCDData.read(file,unit='adu')\n",
    "    data       = sci.data[739:1438,880:1660]\n",
    "    hdr        = sci.header\n",
    "    \n",
    "    mean, median, std = sigma_clipped_stats(data, sigma=3.0)    \n",
    "    daofind = DAOStarFinder(fwhm=fwhm, threshold=source_snr*std)    \n",
    "    sources = daofind(data)\n",
    "    \n",
    "    #print(sources)\n",
    "    \n",
    "    # photometry\n",
    "    # biggest FWHM is 4.2 pix\n",
    "    aperture  = CircularAperture(im1_sf_positions, r=5)\n",
    "    phota = aperture_photometry(data, aperture)\n",
    "    for col in phota.colnames:\n",
    "        phota[col].info.format = '%.8g'              # for consistent table output\n",
    "\n",
    "        \n",
    "    # calculate the mean background\n",
    "    # note that for PG1633+099, this will include two little stars :(\n",
    "    annulus_aperture = CircularAnnulus(im1_sf_positions, r_in=15., r_out=20.)\n",
    "    bg   = aperture_photometry(data,annulus_aperture)\n",
    "    \n",
    "    for col in bg.colnames:\n",
    "        bg[col].info.format = '%.8g'                # for consistent table output\n",
    "    msky = bg['aperture_sum']/annulus_aperture.area # get bg cts/pixel\n",
    "    \n",
    "    \n",
    "    phota['inst_mag'] = -2.5 * np.log10(phota['aperture_sum']-msky*aperture.area)\n",
    "    \n",
    "    phota['diff_mag'] =phota['inst_mag']-lan_mag3\n",
    "    \n",
    "\n",
    "    \n",
    "    # show the image with apertures\n",
    "    #fig, ax = plt.subplots(1, 1, figsize=(8, 8))\n",
    "    #show_image(data, cmap='gray', ax=ax, fig=fig)\n",
    "    #aperture.plot(color='green', lw=1.5, alpha=0.5) # apertures\n",
    "    #annulus_aperture.plot(color='red', lw=1.5, alpha=0.5)                        # bg annulus\n",
    "    #ax.set_xlim([800,1500])\n",
    "    #ax.set_ylim([800,1500])\n",
    "    #plt.title(title)\n",
    "    #plt.tight_layout()\n",
    "    #plt.show()\n",
    "    \n",
    "    return phota"
   ]
  },
  {
   "cell_type": "code",
   "execution_count": null,
   "id": "7645983e",
   "metadata": {},
   "outputs": [],
   "source": [
    "get_phota(reduced_dir+'a157otzf.fits','V')"
   ]
  },
  {
   "cell_type": "code",
   "execution_count": null,
   "id": "e3f06998",
   "metadata": {},
   "outputs": [],
   "source": [
    "photv = [get_phota(reduced_dir+'a158otzf.fits','V')]\n",
    "photb = [get_phota(reduced_dir+'a160otzf.fits','B')]"
   ]
  },
  {
   "cell_type": "code",
   "execution_count": null,
   "id": "629ca454",
   "metadata": {},
   "outputs": [],
   "source": [
    "photv[0][5][:]\n",
    "photb[0][5][:]\n",
    "BellBivdeVoe = (photb[0][4][:]) - (photv[0][4][:])"
   ]
  },
  {
   "cell_type": "code",
   "execution_count": null,
   "id": "ddf289b6",
   "metadata": {},
   "outputs": [],
   "source": [
    "plt.scatter(BellBivdeVoe,(photv[0][4][:]))\n",
    "plt.title('Color vs. Magnitude diagram')\n",
    "plt.show()"
   ]
  },
  {
   "cell_type": "code",
   "execution_count": null,
   "id": "59603de1",
   "metadata": {},
   "outputs": [],
   "source": [
    "m_o5 = (np.array(photv[0][4][:])) - (k*1.10)\n",
    "m_o6 = (np.array(photb[0][4][:])) - (k*1.10)\n",
    "red = k*3.2\n",
    "\n",
    "BellBivdeVoeCorrected = (m_o6) - (m_o5)\n",
    "plt.scatter(BellBivdeVoe,(m_naut5))\n",
    "plt.show()"
   ]
  },
  {
   "cell_type": "markdown",
   "id": "5ef11aa7",
   "metadata": {},
   "source": [
    "Our color-mag diagram could be fit with a line, though we don't distinguish between the different types of stars in our image. There seems to be more scatter in the published color-magnitude diagram as opposed to our diagram, most of the stars seem to follow the same curve. Our background subtraction method will also not be as accurate since several of the stars are closely clustered together, and the light from those stars would have been included in the background sky magnitude. Even with our extinction corrections for the atmosphere, there are still reddening effects due to the geometry of interstellar dust that have not been accounted for."
   ]
  }
 ],
 "metadata": {
  "kernelspec": {
   "display_name": "Python 3",
   "language": "python",
   "name": "python3"
  },
  "language_info": {
   "codemirror_mode": {
    "name": "ipython",
    "version": 3
   },
   "file_extension": ".py",
   "mimetype": "text/x-python",
   "name": "python",
   "nbconvert_exporter": "python",
   "pygments_lexer": "ipython3",
   "version": "3.8.8"
  }
 },
 "nbformat": 4,
 "nbformat_minor": 5
}
