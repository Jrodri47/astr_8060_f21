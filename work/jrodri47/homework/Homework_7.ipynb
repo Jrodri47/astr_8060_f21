{
 "cells": [
  {
   "cell_type": "code",
   "execution_count": 2,
   "id": "fde47356",
   "metadata": {},
   "outputs": [
    {
     "name": "stdout",
     "output_type": "stream",
     "text": [
      "Ginga not installed, use other viewer, or no viewer\n"
     ]
    }
   ],
   "source": [
    "import numpy as np\n",
    "from astropy.io import fits\n",
    "import pdb\n",
    "%matplotlib inline\n",
    "from matplotlib import pyplot as plt\n",
    "from matplotlib import rc\n",
    "import matplotlib\n",
    "from astropy.visualization import hist\n",
    "from datetime import datetime\n",
    "from pathlib import Path\n",
    "import os\n",
    "from ccdproc import ImageFileCollection\n",
    "import ccdproc as ccdp\n",
    "from astropy.modeling.models import Polynomial1D,Chebyshev1D,Legendre1D,Hermite1D, Gaussian1D,Gaussian2D,Polynomial2D\n",
    "from astropy.modeling import fitting\n",
    "from astropy.stats import mad_std\n",
    "from astropy.nddata import CCDData, StdDevUncertainty\n",
    "from scipy import stats\n",
    "from astropy import units as u\n",
    "from photutils.aperture import CircularAperture,CircularAnnulus\n",
    "from photutils.aperture import aperture_photometry\n",
    "from astropy.stats import sigma_clipped_stats\n",
    "from photutils.detection import DAOStarFinder\n",
    "from astropy.table import Table\n",
    "from imexam.imexamine import Imexamine\n",
    "from astropy.coordinates import SkyCoord\n",
    "from astropy.stats import sigma_clipped_stats\n",
    "from photutils.datasets import load_star_image\n",
    "from astropy.visualization import SqrtStretch\n",
    "from astropy.visualization.mpl_normalize import ImageNormalize"
   ]
  },
  {
   "cell_type": "code",
   "execution_count": 3,
   "id": "a799798a",
   "metadata": {},
   "outputs": [
    {
     "name": "stderr",
     "output_type": "stream",
     "text": [
      "WARNING: AstropyDeprecationWarning: block_reduce was moved to the astropy.nddata.blocks module.  Please update your import statement. [astropy.nddata.utils]\n"
     ]
    }
   ],
   "source": [
    "phot_tutorial_dir =\"/Users/jonathanrodriguez/Documents/ASTR8060/repos/phot_tutorial/ccd-reduction-and-photometry-guide/notebooks/\"\n",
    "import sys\n",
    "sys.path.insert(0,phot_tutorial_dir)\n",
    "from convenience_functions import show_image\n",
    "\n",
    "plt.style.use(phot_tutorial_dir+'/guide.mplstyle')\n",
    "\n",
    "# Set some default parameters for the plots below\n",
    "rc('font', size=12)\n",
    "rc('axes', grid=True)"
   ]
  },
  {
   "cell_type": "code",
   "execution_count": 4,
   "id": "6ad4d5bf",
   "metadata": {},
   "outputs": [],
   "source": [
    "data_dir = '/Users/jonathanrodriguez/Documents/ASTR8060/Imaging/'\n",
    "reduced_dir = '/Users/jonathanrodriguez/Documents/ASTR8060/Reductions1/'"
   ]
  },
  {
   "cell_type": "code",
   "execution_count": 5,
   "id": "696b7d1f",
   "metadata": {},
   "outputs": [],
   "source": [
    "imgs = ccdp.ImageFileCollection(reduced_dir,glob_include='*otzf.fits')"
   ]
  },
  {
   "cell_type": "markdown",
   "id": "ad9dbf2f",
   "metadata": {},
   "source": [
    "# Number 1:\n",
    "## Plot your standard star instrumental magnitudes from HW6 versus their airmass (or since you have many different standard stars taken at different airmass, plot the difference between the accepted magnitude and your instrumental magnitude versus airmass). Use one of the linear fitting routines in Python to do a least squares fit to find and plot the extinction coefficients at each filter. You can find the standard star magnitudes and colors in Landolt (1992)."
   ]
  },
  {
   "cell_type": "markdown",
   "id": "26586fc8",
   "metadata": {},
   "source": []
  }
 ],
 "metadata": {
  "kernelspec": {
   "display_name": "Python 3",
   "language": "python",
   "name": "python3"
  },
  "language_info": {
   "codemirror_mode": {
    "name": "ipython",
    "version": 3
   },
   "file_extension": ".py",
   "mimetype": "text/x-python",
   "name": "python",
   "nbconvert_exporter": "python",
   "pygments_lexer": "ipython3",
   "version": "3.7.0"
  }
 },
 "nbformat": 4,
 "nbformat_minor": 5
}
